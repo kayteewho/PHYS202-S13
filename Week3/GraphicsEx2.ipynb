{
 "metadata": {
  "name": "GraphicsEx2"
 },
 "nbformat": 3,
 "nbformat_minor": 0,
 "worksheets": [
  {
   "cells": [
    {
     "cell_type": "markdown",
     "metadata": {},
     "source": [
      "$\\psi_k(x) = A((i*k - a*tanh(a*x)) / (i*k + a))*e^$(+i*k*x)$$"
     ]
    },
    {
     "cell_type": "markdown",
     "metadata": {},
     "source": [
      "$v_1 = m_2(sqrt((2*G)/M)((1/r)-(1/r_0)))$ "
     ]
    },
    {
     "cell_type": "markdown",
     "metadata": {},
     "source": []
    },
    {
     "cell_type": "code",
     "collapsed": false,
     "input": [],
     "language": "python",
     "metadata": {},
     "outputs": []
    }
   ],
   "metadata": {}
  }
 ]
}