{
 "metadata": {
  "name": "Midterm"
 },
 "nbformat": 3,
 "nbformat_minor": 0,
 "worksheets": [
  {
   "cells": [
    {
     "cell_type": "heading",
     "level": 1,
     "metadata": {},
     "source": [
      "Week1"
     ]
    },
    {
     "cell_type": "code",
     "collapsed": false,
     "input": [
      "Project Euler 1\n",
      "\n",
      "sum1 = 0\n",
      "for i in range(1000): \n",
      "    if i%3==0 or i%5 == 0:\n",
      "        sum1 = sum1 + i\n",
      "print sum1"
     ],
     "language": "python",
     "metadata": {},
     "outputs": [],
     "prompt_number": 5
    },
    {
     "cell_type": "heading",
     "level": 1,
     "metadata": {},
     "source": [
      "Week2"
     ]
    },
    {
     "cell_type": "heading",
     "level": 2,
     "metadata": {},
     "source": [
      "NumPyEx1"
     ]
    },
    {
     "cell_type": "code",
     "collapsed": false,
     "input": [
      "import numpy as np\n",
      "\n",
      "To create an array\n",
      "    set (variable) = np.array()\n",
      "To construct an array\n",
      "    np.tile(np.array())\n",
      "    \n",
      "to make shape\n",
      "make array like r = np.ones\n",
      "if needed help(np.nonzero)\n",
      "\n",
      "picture with color changes on here"
     ],
     "language": "python",
     "metadata": {},
     "outputs": []
    },
    {
     "cell_type": "heading",
     "level": 2,
     "metadata": {},
     "source": [
      "Tuesday Notes"
     ]
    },
    {
     "cell_type": "code",
     "collapsed": false,
     "input": [
      "#help(np.array)\n",
      "to find type\n",
      "    type(function)\n",
      "to find dimensions\n",
      "    function.ndim\n",
      "to find shape\n",
      "    function.shape\n",
      "to find length\n",
      "    len(function)"
     ],
     "language": "python",
     "metadata": {},
     "outputs": []
    },
    {
     "cell_type": "heading",
     "level": 2,
     "metadata": {},
     "source": [
      "Thursday Notes"
     ]
    },
    {
     "cell_type": "code",
     "collapsed": false,
     "input": [
      "matrices and etc\n",
      "random number generator\n",
      "    example: a=np.random.rand(4)\n",
      "mask\n",
      "    #mask = (a % 3 == 0) <----checks through numbers to see if any are divisible. marks true if abides by mask\n"
     ],
     "language": "python",
     "metadata": {},
     "outputs": []
    },
    {
     "cell_type": "heading",
     "level": 3,
     "metadata": {},
     "source": [
      "Project Euler 6 --> Sum Square Difference\n",
      "Project Euler 16 --> Power Digit Sum"
     ]
    },
    {
     "cell_type": "heading",
     "level": 1,
     "metadata": {},
     "source": [
      "Week3"
     ]
    },
    {
     "cell_type": "heading",
     "level": 2,
     "metadata": {},
     "source": [
      "Tuesday Notes"
     ]
    },
    {
     "cell_type": "code",
     "collapsed": false,
     "input": [
      "Using matplotlib\n",
      "    #simple line plot\n",
      "t = arange(0.0,1.01,0.01)\n",
      "c = cos(4*pi*t)\n",
      "s = sin(4*pi*t)\n",
      "# plot(t,c)\n",
      "\n",
      "plot(t,s,color=\"blue\",linewidth=2.5,label=\"$sin(4{\\pi}t)$\")\n",
      "plot(t,c,color=\"red\",linewidth=2.5,label=\"$cos(4{\\pi}t)$\")\n",
      "xlabel(\"time (s)\",fontsize=15)\n",
      "ylabel(\"voltage (mV)\",fontsize=15)\n",
      "title(\"My cool plot\",fontsize=20)\n",
      "legend()\n",
      "grid()\n",
      "savefig(\"simple_plot.pdf\")\n",
      "show()"
     ],
     "language": "python",
     "metadata": {},
     "outputs": [],
     "prompt_number": 6
    },
    {
     "cell_type": "heading",
     "level": 2,
     "metadata": {},
     "source": [
      "GraphicsEx2"
     ]
    },
    {
     "cell_type": "code",
     "collapsed": false,
     "input": [
      "formulas and graphing"
     ],
     "language": "python",
     "metadata": {},
     "outputs": []
    },
    {
     "cell_type": "heading",
     "level": 1,
     "metadata": {},
     "source": [
      "Week4"
     ]
    },
    {
     "cell_type": "heading",
     "level": 2,
     "metadata": {},
     "source": [
      "Electrostatics"
     ]
    },
    {
     "cell_type": "code",
     "collapsed": false,
     "input": [
      "x=arange(-10.,10.,.01)\n",
      "y=arange(-10.,10.,.01)\n",
      "\n",
      "X,Y=meshgrid(x,y)\n",
      "\n",
      "A= pointPotential(X,Y, -2e-9,0.,-.005)\n",
      "B= dipolePotential(X,Y, 3e-9,.001)\n",
      "\n",
      "from mpl_toolkits.mplot3d import Axes3D\n",
      "fig = figure()\n",
      "ax = fig.gca(projection ='3d')\n",
      "p = ax.plot_surface(X, Y, A, rstride=1, cstride=1, linewidth=0, cmap=cm.YlGnBu)\n",
      "cb = fig.colorbar(p, shrink = 0.5)"
     ],
     "language": "python",
     "metadata": {},
     "outputs": []
    },
    {
     "cell_type": "heading",
     "level": 2,
     "metadata": {},
     "source": [
      "Notes"
     ]
    },
    {
     "cell_type": "code",
     "collapsed": false,
     "input": [
      "#Using Boolean Masks\n",
      "    mask to put an outline on parts of graph\n",
      "#Interpolation\n",
      "    help(interpld)\n",
      "#Differentiation\n",
      "    help(diff)"
     ],
     "language": "python",
     "metadata": {},
     "outputs": [],
     "prompt_number": 7
    },
    {
     "cell_type": "heading",
     "level": 2,
     "metadata": {},
     "source": [
      "3D Plotting Functions"
     ]
    },
    {
     "cell_type": "heading",
     "level": 3,
     "metadata": {},
     "source": [
      "Exercise 1: Make a 3-D plot of the function $G(x,y) = e^{-x^2-y^2}$ \n",
      "\n",
      "over the range -6$\\lt(x,y)\\lt$6 using 51 bins in x and 51 bins in y.\n"
     ]
    },
    {
     "cell_type": "code",
     "collapsed": false,
     "input": [
      "dx = .06\n",
      "dy = .06\n",
      "x = arange(-6.,6.,dx)\n",
      "y = arange(-6.,6.,dy)\n",
      "print x.ndim, len(x)\n",
      "X,Y = meshgrid(x,y)\n",
      "print X.ndim\n",
      "print Y.shape\n",
      "print X\n",
      "print Y\n",
      "\n",
      "from mpl_toolkits.mplot3d import Axes3D\n",
      "fig = figure()\n",
      "ax = fig.gca(projection ='3d')\n",
      "p = ax.plot_surface(X, Y, V, rstride=1, cstride=1, linewidth=0, cmap=cm.YlGnBu)\n",
      "# help(Axes3D.plot_surface)\n",
      "cb = fig.colorbar(p, shrink = 0.5)"
     ],
     "language": "python",
     "metadata": {},
     "outputs": []
    },
    {
     "cell_type": "heading",
     "level": 1,
     "metadata": {},
     "source": [
      "Week5"
     ]
    },
    {
     "cell_type": "heading",
     "level": 2,
     "metadata": {},
     "source": [
      "Tuesday Exercises"
     ]
    },
    {
     "cell_type": "code",
     "collapsed": false,
     "input": [
      "# TRAPEZOIDAL RULE!!!!\n",
      "\n",
      "f = lambda x: 'function'\n",
      "    \n",
      "N = 10\n",
      "a = 0.0\n",
      "b = 2.0\n",
      "h = (b-a)/N\n",
      "s = .5*f(a) + .5*f(b)\n",
      "for k in range(1,N) :\n",
      "    s += f(a+k*h)\n",
      "print(h*s)"
     ],
     "language": "python",
     "metadata": {},
     "outputs": []
    },
    {
     "cell_type": "code",
     "collapsed": false,
     "input": [
      "# SIMPSON'S RULE!!!!!\n",
      "\n",
      "N = 10\n",
      "a = 0.0\n",
      "b = 2.0\n",
      "h = (b-a)/N\n",
      "r = f(a) + f(b)\n",
      "for k in range(1,int(N/2) + 1):\n",
      "    r += 4*(f(a+(2*k-1)*h))\n",
      "for k in range(1,N/2):\n",
      "    r += 2*(f(a+(2*k*h)))\n",
      "r = h/3. *r\n",
      "print r\n"
     ],
     "language": "python",
     "metadata": {},
     "outputs": []
    },
    {
     "cell_type": "code",
     "collapsed": false,
     "input": [
      "import scipy\n",
      "import scipy.integrate as integrate\n",
      "#help(integrate)\n",
      "\n",
      "load text\n",
      "data = loadtxt('velocities.txt',float)"
     ],
     "language": "python",
     "metadata": {},
     "outputs": []
    },
    {
     "cell_type": "heading",
     "level": 2,
     "metadata": {},
     "source": [
      "Monte Carlo Integration"
     ]
    },
    {
     "cell_type": "code",
     "collapsed": false,
     "input": [
      "plotting and more"
     ],
     "language": "python",
     "metadata": {},
     "outputs": []
    },
    {
     "cell_type": "heading",
     "level": 3,
     "metadata": {},
     "source": [
      "Project Euler 4 --> Palindrome"
     ]
    },
    {
     "cell_type": "code",
     "collapsed": false,
     "input": [],
     "language": "python",
     "metadata": {},
     "outputs": []
    }
   ],
   "metadata": {}
  }
 ]
}