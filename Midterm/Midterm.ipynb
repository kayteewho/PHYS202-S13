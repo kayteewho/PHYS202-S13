{
 "metadata": {
  "name": "Midterm"
 },
 "nbformat": 3,
 "nbformat_minor": 0,
 "worksheets": [
  {
   "cells": [
    {
     "cell_type": "heading",
     "level": 2,
     "metadata": {},
     "source": [
      "Question 1"
     ]
    },
    {
     "cell_type": "markdown",
     "metadata": {},
     "source": [
      "Academic Honesty Pledge\n",
      "Cal Poly PHYS 202 - Spring 2013\n",
      "I have read and understand the rules regarding academic honesty and I agree to abide by them. I pledge on my honor that I have not given or received any unauthorized assistance on assignments or ex- aminations in this course.\n",
      "Signed: Katie Hu Dated: 05/07/2013"
     ]
    },
    {
     "cell_type": "heading",
     "level": 2,
     "metadata": {},
     "source": [
      "Question 2"
     ]
    },
    {
     "cell_type": "heading",
     "level": 5,
     "metadata": {},
     "source": [
      "Part a)"
     ]
    },
    {
     "cell_type": "code",
     "collapsed": false,
     "input": [
      "theta = arange(-pi , pi , 0.1)             #set the boundaries\n",
      "y = (cos(2*theta)*cos(theta/2))**2         #set the function = given equation\n",
      "plot(theta,y,color=\"blue '*'\",linewidth=2.5) #Plot\n",
      "plot(theta,y,color=\"red\",linewidth=2.5\n",
      "xlabel(\"theta (rad)\",fontsize=15)             #label axis\n",
      "ylabel(\"intensity\",fontsize=15)\n",
      "title(\"Plotting\",fontsize=20)\n",
      "show()"
     ],
     "language": "python",
     "metadata": {},
     "outputs": [
      {
       "ename": "SyntaxError",
       "evalue": "invalid syntax (<ipython-input-12-4699b716978f>, line 5)",
       "output_type": "pyerr",
       "traceback": [
        "\u001b[0;36m  File \u001b[0;32m\"<ipython-input-12-4699b716978f>\"\u001b[0;36m, line \u001b[0;32m5\u001b[0m\n\u001b[0;31m    xlabel(\"theta (rad)\",fontsize=15)\u001b[0m\n\u001b[0m         ^\u001b[0m\n\u001b[0;31mSyntaxError\u001b[0m\u001b[0;31m:\u001b[0m invalid syntax\n"
       ]
      }
     ],
     "prompt_number": 12
    },
    {
     "cell_type": "heading",
     "level": 5,
     "metadata": {},
     "source": [
      "Part b)"
     ]
    },
    {
     "cell_type": "code",
     "collapsed": false,
     "input": [
      "t = arange(-4,4,2.)         #set domain\n",
      "y = arange(-10,10,5.)\n",
      "s = ((1+t)/(1-t))\n",
      "c = exp(-t)\n",
      "\n",
      "plot(t,s,color=\"blue\",linewidth=2.5,label=\"$((1+t)/(1-t))$\")\n",
      "plot(t,c,color=\"red\",linewidth=2.5,label=\"$exp(-t)$\")\n",
      "xlabel(\"time (seconds)\",fontsize=15)\n",
      "ylabel(\"f(t),g(t)\",fontsize=15)\n",
      "legend(loc = \"lower left\")\n",
      "show()"
     ],
     "language": "python",
     "metadata": {},
     "outputs": [
      {
       "output_type": "display_data",
       "png": "[encoded data removed]"
      }
     ],
     "prompt_number": 7
    },
    {
     "cell_type": "heading",
     "level": 2,
     "metadata": {},
     "source": [
      "Question 3"
     ]
    },
    {
     "cell_type": "heading",
     "level": 5,
     "metadata": {},
     "source": [
      "Part a)"
     ]
    },
    {
     "cell_type": "code",
     "collapsed": false,
     "input": [
      "a = 1\n",
      "b = 2\n",
      "/lambda = 1.0\n",
      "\n",
      "#use trapezoidal to integrate. \n",
      "f = lambda t: k*q*(x-Xq)   #using the trapezoidal rule for the slicing. \n",
      "N = len(x)\n",
      "a = 0\n",
      "b = 3. #make float with the decimal afterwards\n",
      "h = (b-a)/N\n",
      "s = 0.5*f(a) + 0.5*f(b)\n",
      "for k in range(1,N):\n",
      "    s+= f(a+k*h)\n",
      "print(h*s)\n",
      "\n"
     ],
     "language": "python",
     "metadata": {},
     "outputs": [
      {
       "ename": "SyntaxError",
       "evalue": "invalid syntax (<ipython-input-14-ec584b5d3031>, line 3)",
       "output_type": "pyerr",
       "traceback": [
        "\u001b[0;36m  File \u001b[0;32m\"<ipython-input-14-ec584b5d3031>\"\u001b[0;36m, line \u001b[0;32m3\u001b[0m\n\u001b[0;31m    lambda = 1.0\u001b[0m\n\u001b[0m           ^\u001b[0m\n\u001b[0;31mSyntaxError\u001b[0m\u001b[0;31m:\u001b[0m invalid syntax\n"
       ]
      }
     ],
     "prompt_number": 14
    },
    {
     "cell_type": "heading",
     "level": 2,
     "metadata": {},
     "source": [
      "Question 4"
     ]
    },
    {
     "cell_type": "heading",
     "level": 5,
     "metadata": {},
     "source": [
      "Part a)"
     ]
    },
    {
     "cell_type": "code",
     "collapsed": false,
     "input": [
      "prefixes = 'JKLMNOPQ'\n",
      "suffix = 'ack'\n",
      "fix = 'uack'\n",
      "for letter in prefixes:\n",
      "    print letter + suffix\n",
      "    if prefixes[5]:\n",
      "        print prefixes[5] + fix\n",
      "    if prefixes[7]:\n",
      "        print prefixes[7] + fix"
     ],
     "language": "python",
     "metadata": {},
     "outputs": [
      {
       "output_type": "stream",
       "stream": "stdout",
       "text": [
        "Jack\n",
        "Ouack\n",
        "Quack\n",
        "Kack\n",
        "Ouack\n",
        "Quack\n",
        "Lack\n",
        "Ouack\n",
        "Quack\n",
        "Mack\n",
        "Ouack\n",
        "Quack\n",
        "Nack\n",
        "Ouack\n",
        "Quack\n",
        "Oack\n",
        "Ouack\n",
        "Quack\n",
        "Pack\n",
        "Ouack\n",
        "Quack\n",
        "Qack\n",
        "Ouack\n",
        "Quack\n"
       ]
      }
     ],
     "prompt_number": 8
    },
    {
     "cell_type": "heading",
     "level": 5,
     "metadata": {},
     "source": [
      "Part b)"
     ]
    },
    {
     "cell_type": "code",
     "collapsed": false,
     "input": [
      "def is_anagram(s1,s2):\n",
      "    k = prefixes[1]\n",
      "    if k:\n",
      "        print True"
     ],
     "language": "python",
     "metadata": {},
     "outputs": [],
     "prompt_number": 9
    },
    {
     "cell_type": "code",
     "collapsed": false,
     "input": [],
     "language": "python",
     "metadata": {},
     "outputs": [],
     "prompt_number": 9
    }
   ],
   "metadata": {}
  }
 ]
}