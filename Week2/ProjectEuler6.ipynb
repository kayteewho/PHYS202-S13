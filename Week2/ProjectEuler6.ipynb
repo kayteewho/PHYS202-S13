{
 "metadata": {
  "name": "ProjectEuler6"
 },
 "nbformat": 3,
 "nbformat_minor": 0,
 "worksheets": [
  {
   "cells": [
    {
     "cell_type": "markdown",
     "metadata": {},
     "source": [
      "Sum square difference\n",
      "======================\n",
      "Problem 6\n",
      "----------\n",
      "The sum of the squares of the first ten natural numbers is,\n",
      "\n",
      "1$^2$ + 2$^2$ + ... + 10$^2$ = 385\n",
      "The square of the sum of the first ten natural numbers is,\n",
      "\n",
      "(1 + 2 + ... + 10)2 = 552 = $3025\n",
      "Hence the difference between the sum of the squares of the first ten natural numbers and the square of the sum is 3025  385 = 2640.\n",
      "\n",
      "Find the difference between the sum of the squares of the first one hundred natural numbers and the square of the sum."
     ]
    },
    {
     "cell_type": "code",
     "collapsed": false,
     "input": [
      "number=0\n",
      "square=0\n",
      "for i in range(11):\n",
      "    number += i**2\n",
      "    square += i\n",
      "square = square **2\n",
      "print square - number\n",
      "print square\n",
      "print number"
     ],
     "language": "python",
     "metadata": {},
     "outputs": [
      {
       "output_type": "stream",
       "stream": "stdout",
       "text": [
        "2640\n",
        "3025\n",
        "385\n"
       ]
      }
     ],
     "prompt_number": 4
    },
    {
     "cell_type": "code",
     "collapsed": false,
     "input": [
      "number=0\n",
      "square=0\n",
      "for i in range(101):\n",
      "    number += i**2\n",
      "    square += i\n",
      "square = square **2\n",
      "print square - number\n",
      "print square\n",
      "print number"
     ],
     "language": "python",
     "metadata": {},
     "outputs": [
      {
       "output_type": "stream",
       "stream": "stdout",
       "text": [
        "25164150\n",
        "25502500\n",
        "338350\n"
       ]
      }
     ],
     "prompt_number": 5
    },
    {
     "cell_type": "code",
     "collapsed": false,
     "input": [],
     "language": "python",
     "metadata": {},
     "outputs": []
    }
   ],
   "metadata": {}
  }
 ]
}