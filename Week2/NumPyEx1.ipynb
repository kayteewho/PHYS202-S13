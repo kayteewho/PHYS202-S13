{
 "metadata": {
  "name": "NumPyEx1"
 },
 "nbformat": 3,
 "nbformat_minor": 0,
 "worksheets": [
  {
   "cells": [
    {
     "cell_type": "markdown",
     "metadata": {},
     "source": [
      "1. Create the following arrays with correct data types:\n",
      "\n",
      "[[1, 1, 1, 1], [1, 1, 1, 1], [1, 1, 1, 2], [1, 6, 1, 1]] [[0., 0., 0., 0., 0.], [2., 0., 0., 0., 0.], [0., 3., 0., 0., 0.], [0., 0., 4., 0., 0.], [0., 0., 0., 5., 0.], [0., 0., 0., 0., 6.]] You should be able to accomplish this in 3 lines of code for each one. Here are a couple of hints: Individual array elements can be accessed similarly to a list, e.g. a[1] or a[1,2]. The docstring for the diag method may be helpful."
     ]
    },
    {
     "cell_type": "code",
     "collapsed": false,
     "input": [
      "import numpy as np"
     ],
     "language": "python",
     "metadata": {},
     "outputs": [],
     "prompt_number": 1
    },
    {
     "cell_type": "code",
     "collapsed": false,
     "input": [
      "a=np.array([[1,1,1,1],[1,1,1,1],[1,1,1,2],[1,6,1,1]])\n",
      "a"
     ],
     "language": "python",
     "metadata": {},
     "outputs": [
      {
       "output_type": "pyout",
       "prompt_number": 2,
       "text": [
        "array([[1, 1, 1, 1],\n",
        "       [1, 1, 1, 1],\n",
        "       [1, 1, 1, 2],\n",
        "       [1, 6, 1, 1]])"
       ]
      }
     ],
     "prompt_number": 2
    },
    {
     "cell_type": "code",
     "collapsed": false,
     "input": [
      "b=np.array([[0.,0.,0.,0.],[2., 0., 0., 0., 0.], [0., 3., 0., 0., 0.], [0., 0., 4., 0., 0.], [0., 0., 0., 5., 0.], [0., 0., 0., 0., 6.]])\n",
      "b"
     ],
     "language": "python",
     "metadata": {},
     "outputs": [
      {
       "output_type": "pyout",
       "prompt_number": 3,
       "text": [
        "array([[0.0, 0.0, 0.0, 0.0], [2.0, 0.0, 0.0, 0.0, 0.0],\n",
        "       [0.0, 3.0, 0.0, 0.0, 0.0], [0.0, 0.0, 4.0, 0.0, 0.0],\n",
        "       [0.0, 0.0, 0.0, 5.0, 0.0], [0.0, 0.0, 0.0, 0.0, 6.0]], dtype=object)"
       ]
      }
     ],
     "prompt_number": 3
    },
    {
     "cell_type": "markdown",
     "metadata": {},
     "source": [
      "2 Read the documentation for np.tile and use this function to construct the following array:\n",
      "\n",
      "[[4, 3, 4, 3, 4, 3], [2, 1, 2, 1, 2, 1], [4, 3, 4, 3, 4, 3], [2, 1, 2, 1, 2, 1]]"
     ]
    },
    {
     "cell_type": "code",
     "collapsed": false,
     "input": [
      "np.tile(np.array([[4,3,4,3,4,3],[2,1,2,1,2,1]]),(2,1))"
     ],
     "language": "python",
     "metadata": {},
     "outputs": [
      {
       "output_type": "pyout",
       "prompt_number": 4,
       "text": [
        "array([[4, 3, 4, 3, 4, 3],\n",
        "       [2, 1, 2, 1, 2, 1],\n",
        "       [4, 3, 4, 3, 4, 3],\n",
        "       [2, 1, 2, 1, 2, 1]])"
       ]
      }
     ],
     "prompt_number": 4
    },
    {
     "cell_type": "markdown",
     "metadata": {},
     "source": [
      "3 Let's create a prime number sieve. We will use the sieve to see what numbers between 0 and 100 are prime.\n",
      "\n",
      "(a) First, construct an array of booleans called is prime with shape (100,), \f",
      "lled with True in all the elements. is_prime = np.ones((100,), dtype=bool) (b) The index of each boolean element represents the number. \\Cross out\" 0 and 1, which are not primes. You can either set them to False or 0 (which python recognizes as equiv- alent to False for boolean types). (c) For each subsequent integer j starting from 2, cross out its higher multiples: N_max = int(np.sqrt(len(is_prime))) for j in range(2, N_max): is_prime[2*j::j] = False Make sure you understand what this code is doing. What does that slicing of the array mean? (Include your answer in a markdown cell) (d) Look up the documentation for np.nonzero (try help(np.nonzero)) and use it to print the prime numbers. (e) Finally, create a new function, called eratosthenes sieve() that takes one argu- ment, maximum, the maximum number to test for primes, and returns an array contain- ing the prime numbers between 2 and maximum. Use the sieve algorithm developed by Eratosthenes and described on wikipedia: (http://en.wikipedia.org/wiki/Sieve_of_ Eratosthenes). Print the result for the test cases where maximum = 10 and 100. (We'll use this algorithm again for some of our Project Euler exercises.)"
     ]
    },
    {
     "cell_type": "code",
     "collapsed": false,
     "input": [],
     "language": "python",
     "metadata": {},
     "outputs": []
    }
   ],
   "metadata": {}
  }
 ]
}