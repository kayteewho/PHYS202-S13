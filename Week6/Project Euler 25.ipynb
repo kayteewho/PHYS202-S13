{
 "metadata": {
  "name": "Project Euler 25"
 },
 "nbformat": 3,
 "nbformat_minor": 0,
 "worksheets": [
  {
   "cells": [
    {
     "cell_type": "markdown",
     "metadata": {},
     "source": [
      "The Fibonacci sequence is defined by the recurrence relation:\n",
      "\n",
      "Fn = Fn1 + Fn2, where F1 = 1 and F2 = 1.\n",
      "Hence the first 12 terms will be:\n",
      "\n",
      "F1 = 1\n",
      "F2 = 1\n",
      "F3 = 2\n",
      "F4 = 3\n",
      "F5 = 5\n",
      "F6 = 8\n",
      "F7 = 13\n",
      "F8 = 21\n",
      "F9 = 34\n",
      "F10 = 55\n",
      "F11 = 89\n",
      "F12 = 144\n",
      "The 12th term, F12, is the first term to contain three digits.\n",
      "\n",
      "What is the first term in the Fibonacci sequence to contain 1000 digits?"
     ]
    },
    {
     "cell_type": "markdown",
     "metadata": {},
     "source": [
      "def find_fibonacci(n):\n",
      "    a, b = 0, 1\n",
      "    for i in range(0, n):\n",
      "        x = str(a)\n",
      "        if len(x) == 1000:\n",
      "            print a\n",
      "            print \"F(n) = \", i\n",
      "            break\n",
      "        a, b, = b, a + b\n",
      " \n",
      "def main():\n",
      "    n = input(1000)\n",
      "    find_fibonacci(n)\n",
      "     \n",
      "    if __name__ == '__main__':\n",
      "        main(n)"
     ]
    },
    {
     "cell_type": "code",
     "collapsed": false,
     "input": [
      "fibonacci = 1 \n",
      "a = 0\n",
      "b = 1\n",
      "limit=1000\n",
      "\n",
      "i=1\n",
      "\n",
      "while len(str(fibonacci)) < limit:\n",
      "    fibonacci = a + b\n",
      "    a = b\n",
      "    i = i + 1\n",
      "print(i)"
     ],
     "language": "python",
     "metadata": {},
     "outputs": [],
     "prompt_number": "*"
    },
    {
     "cell_type": "code",
     "collapsed": false,
     "input": [],
     "language": "python",
     "metadata": {},
     "outputs": []
    }
   ],
   "metadata": {}
  }
 ]
}