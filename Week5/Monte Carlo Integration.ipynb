{
 "metadata": {
  "name": "Monte Carlo Integration"
 },
 "nbformat": 3,
 "nbformat_minor": 0,
 "worksheets": [
  {
   "cells": [
    {
     "cell_type": "heading",
     "level": 2,
     "metadata": {},
     "source": [
      "Exercise 1 Example"
     ]
    },
    {
     "cell_type": "code",
     "collapsed": false,
     "input": [
      "f= lambda x: x**(0.5) + sin(x)"
     ],
     "language": "python",
     "metadata": {},
     "outputs": [],
     "prompt_number": "*"
    },
    {
     "cell_type": "code",
     "collapsed": false,
     "input": [
      "x= arange(0.,15.,0.001)"
     ],
     "language": "python",
     "metadata": {},
     "outputs": [],
     "prompt_number": "*"
    },
    {
     "cell_type": "code",
     "collapsed": false,
     "input": [
      "myplot= plot(x,f(x),lw=3)\n",
      "ylabel(r'$x^{1/2} + \\sin(x)$',fontsize=20)\n",
      "xlabel(r'$x$',fontsize=20)\n",
      "xlim(0.,15.)\n",
      "\n",
      "show()"
     ],
     "language": "python",
     "metadata": {},
     "outputs": [],
     "prompt_number": "*"
    },
    {
     "cell_type": "code",
     "collapsed": false,
     "input": [
      "xmin=1.7\n",
      "xmax=12.4\n",
      "subx=x[logical_and((x > xmin),(x < xmax))]\n",
      "ymax=max(f(subx))*1.05\n",
      "ymin= 0.\n",
      "\n",
      "myplot=plot(x,f(x),lw=3)\n",
      "xlim(0.,15.)\n",
      "\n",
      "plot([xmin,xmin], [ymin,ymax], color = 'k',linestyle='--')\n",
      "plot([xmax,xmax], [ymin,ymax], color = 'k', linestyle='--')\n",
      "plot([xmin,xmax], [ymax,ymax], color = 'k',linestyle='--')\n",
      "show()\n"
     ],
     "language": "python",
     "metadata": {},
     "outputs": [],
     "prompt_number": "*"
    },
    {
     "cell_type": "code",
     "collapsed": false,
     "input": [
      "N=10000\n",
      "samples_x= xmin + (xmax-xmin)*random_sample(N);\n",
      "samples_y= ymin + (ymax-ymin)*random_sample(N);\n",
      "\n",
      "myplot=plot(x,f(x),lw=3)\n",
      "xlim(0.,15.)\n",
      "plot(samples_x[1:200],samples_y[1:200],'.')\n",
      "\n",
      "plot([xmin,xmin],[ymin,ymax], color='k', linestyle='--')\n",
      "plot([xmax,xmax],[ymin,ymax], color='k', linestyle='--')\n",
      "plot([xmin,xmax],[ymax,ymax], color='k', linestyle='--')\n",
      "\n",
      "show()"
     ],
     "language": "python",
     "metadata": {},
     "outputs": [],
     "prompt_number": "*"
    },
    {
     "cell_type": "code",
     "collapsed": false,
     "input": [
      "newmask=(samples_y < f(samples_x))\n",
      "sum(newmask)"
     ],
     "language": "python",
     "metadata": {},
     "outputs": [],
     "prompt_number": "*"
    },
    {
     "cell_type": "code",
     "collapsed": false,
     "input": [
      "myplot = plot(x,f(x),lw=3)\n",
      "xlim(0.,15.)\n",
      "\n",
      "plot(samples_x[1:200],samples_y[1:200],'.')\n",
      "plot(samples_x[newmask[:200]],samples_y[newmask[:200]],'r.')\n",
      "\n",
      "plot([xmin,xmin],[ymin,ymax], color='k', linestyle='--')\n",
      "plot([xmax,xmax],[ymin,ymax], color='k', linestyle='--')\n",
      "plot([xmin,xmax],[ymax,ymax], color='k', linestyle='--')\n",
      "\n",
      "show()"
     ],
     "language": "python",
     "metadata": {},
     "outputs": [],
     "prompt_number": "*"
    },
    {
     "cell_type": "code",
     "collapsed": false,
     "input": [
      "I=(xmax-xmin)*(ymax-ymin)*sum(newmask)/newmask.size\n",
      "print I"
     ],
     "language": "python",
     "metadata": {},
     "outputs": [],
     "prompt_number": "*"
    },
    {
     "cell_type": "code",
     "collapsed": false,
     "input": [
      "Iana = lambda x: (2./3.)*x**(3./2.) - cos(x)\n",
      "Iexact = Iana(xmax)-Iana(xmin)\n",
      "Ierr = 100*(Iexact-I)/Iexact\n",
      "print \"I_exact = \", Iexact\n",
      "print \"I_hitormiss=\",I\n",
      "print \"Error on I=\",Ierr,\"%\""
     ],
     "language": "python",
     "metadata": {},
     "outputs": [],
     "prompt_number": "*"
    },
    {
     "cell_type": "heading",
     "level": 2,
     "metadata": {},
     "source": [
      "Exercise 1"
     ]
    },
    {
     "cell_type": "code",
     "collapsed": false,
     "input": [
      "N=10000\n",
      "samples_x= xmin + (xmax-xmin)*random_sample(N);\n",
      "samples_y= ymin + (ymax-ymin)*random_sample(N);\n",
      "\n",
      "myplot=plot(x,f(x),lw=3)\n",
      "xlim(0.,15.)\n",
      "plot(samples_x[1:200],samples_y[1:200],'.')\n",
      "\n",
      "plot([xmin,xmin],[ymin,ymax], color='k', linestyle='--')\n",
      "plot([xmax,xmax],[ymin,ymax], color='k', linestyle='--')\n",
      "plot([xmin,xmax],[ymax,ymax], color='k', linestyle='--')\n",
      "\n",
      "#show()\n",
      "newmask=(samples_y < f(samples_x))\n",
      "sum(newmask)\n",
      "myplot = plot(x,f(x),lw=3)\n",
      "xlim(0.,15.)\n",
      "\n",
      "plot(samples_x[1:200],samples_y[1:200],'.')\n",
      "plot(samples_x[newmask[:200]],samples_y[newmask[:200]],'r.')\n",
      "\n",
      "plot([xmin,xmin],[ymin,ymax], color='k', linestyle='--')\n",
      "plot([xmax,xmax],[ymin,ymax], color='k', linestyle='--')\n",
      "plot([xmin,xmax],[ymax,ymax], color='k', linestyle='--')\n",
      "\n",
      "#show()\n",
      "I=(xmax-xmin)*(ymax-ymin)*sum(newmask)/newmask.size\n",
      "print I\n",
      "Iana = lambda x: (2./3.)*x**(3./2.) - cos(x)\n",
      "Iexact = Iana(xmax)-Iana(xmin)\n",
      "Ierr = 100*(Iexact-I)/Iexact\n",
      "print \"I_exact = \", Iexact\n",
      "print \"I_hitormiss=\",I\n",
      "print \"Error on I=\",Ierr,\"%\""
     ],
     "language": "python",
     "metadata": {},
     "outputs": [],
     "prompt_number": "*"
    },
    {
     "cell_type": "code",
     "collapsed": false,
     "input": [],
     "language": "python",
     "metadata": {},
     "outputs": [],
     "prompt_number": "*"
    }
   ],
   "metadata": {}
  }
 ]
}