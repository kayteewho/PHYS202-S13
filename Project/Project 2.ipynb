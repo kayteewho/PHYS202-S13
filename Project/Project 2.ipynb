{
 "metadata": {
  "name": "Project 2"
 },
 "nbformat": 3,
 "nbformat_minor": 0,
 "worksheets": [
  {
   "cells": [
    {
     "cell_type": "markdown",
     "metadata": {},
     "source": [
      "Create a function called CA184 that takes an array of car positions and velocities along with the road length as arguments.\n",
      "The function should implement the CA184 ruleset for the cars and return the array with the new positions and velocities of the cars after one time step. \n",
      "Now test your function. \n",
      "Start with a road of length 40 and 5 cars.\n",
      "Generate a random integer starting location xi and velocity vi for each car and store it in\n",
      "an array that you can pass into your CA184 function. \n",
      "\n",
      "Print the values for xi, vi, gi before and after the function is called. \n",
      "Verify by hand that the function has worked as expected.\n",
      "Try a few more time steps just to be sure."
     ]
    },
    {
     "cell_type": "code",
     "collapsed": false,
     "input": [
      "cars = 5/n\n",
      "length = 40/n\n",
      "vi = np.random.random(n) # use to generate random intenger for xi, vi\n",
      "gi = np.zeros(5) #car spaces\n",
      "\n",
      "def CA184(length,xi,vi):\n",
      "    #x = xrange\n",
      "    for i in range(cars):\n",
      "        g[i]=abs(x[i] - x[i+1])\n",
      "    for i in range(cars):\n",
      "        if g[i]=0:\n",
      "            v[i]=0      #velocity is zero if there is no car space(0)\n",
      "        else\n",
      "            \n",
      "        \n",
      "        "
     ],
     "language": "python",
     "metadata": {},
     "outputs": [],
     "prompt_number": 1
    },
    {
     "cell_type": "code",
     "collapsed": false,
     "input": [],
     "language": "python",
     "metadata": {},
     "outputs": [],
     "prompt_number": 5
    },
    {
     "cell_type": "code",
     "collapsed": false,
     "input": [],
     "language": "python",
     "metadata": {},
     "outputs": []
    }
   ],
   "metadata": {}
  }
 ]
}