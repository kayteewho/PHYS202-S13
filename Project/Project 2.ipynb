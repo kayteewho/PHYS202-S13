{
 "metadata": {
  "name": "project 2.ipynb"
 },
 "nbformat": 3,
 "nbformat_minor": 0,
 "worksheets": [
  {
   "cells": [
    {
     "cell_type": "markdown",
     "metadata": {},
     "source": [
      "Create a function called CA184 that takes an array of car positions and velocities along with the road length as arguments.\n",
      "The function should implement the CA184 ruleset for the cars and return the array with the new positions and velocities of the cars after one time step. \n",
      "Now test your function. \n",
      "Start with a road of length 40 and 5 cars.\n",
      "Generate a random integer starting location xi and velocity vi for each car and store it in\n",
      "an array that you can pass into your CA184 function. \n",
      "\n",
      "Print the values for xi, vi, gi before and after the function is called. \n",
      "Verify by hand that the function has worked as expected.\n",
      "Try a few more time steps just to be sure."
     ]
    },
    {
     "cell_type": "code",
     "collapsed": false,
     "input": [
      "cars = 5\n",
      "length = 40\n",
      "xrand = np.random.random(cars)*length\n",
      "x = sort(xrand.round())\n",
      "v = np.random.random(cars) # use to generate random intenger for x, v\n",
      "#g = np.zeros(5) #car spaces move to inside of function\n",
      "\n",
      "def CA184(length,x,v):\n",
      "    vmax=12\n",
      "    g=np.zeros(cars)\n",
      "    #x = xrange\n",
      "    for i in range(cars):\n",
      "        if i+1 > 0:\n",
      "            g[i]=int(x[i+1] - x[i])\n",
      "        else:\n",
      "            g[i] = 1-x[i]\n",
      "    for i in range(cars):\n",
      "        if g[i] == 0:\n",
      "            v[i]=0      #velocity is zero if there is no car space(0)\n",
      "        elif g[i] < 0 and g[i] < vmax:   #if slower than cars ahead, speed up the velocity to allow equal distance\n",
      "            v[i] += 1   #increases speed until at a good velocity\n",
      "        else:\n",
      "            g[i] > 0  #if too fast, velocity needs to decrease or come to a stop\n",
      "            v[i] = g[i]  #slows the car down\n",
      "            x[i] += g[i]\n",
      "    return length,x,v"
     ],
     "language": "python",
     "metadata": {},
     "outputs": [
      {
       "output_type": "stream",
       "stream": "stdout",
       "text": [
        "\n"
       ]
      }
     ],
     "prompt_number": 8
    },
    {
     "cell_type": "code",
     "collapsed": false,
     "input": [
      "#TESTING \n",
      "print \"xi\" , x\n",
      "print \"vi\" , v\n",
      "#print CA184(40,x,v)\n",
      "print \"gi\" , g"
     ],
     "language": "python",
     "metadata": {},
     "outputs": [
      {
       "ename": "NameError",
       "evalue": "name 'g' is not defined",
       "output_type": "pyerr",
       "traceback": [
        "\u001b[1;31m---------------------------------------------------------------------------\u001b[0m\n\u001b[1;31mNameError\u001b[0m                                 Traceback (most recent call last)",
        "\u001b[1;32m<ipython-input-9-42a5352e9d6d>\u001b[0m in \u001b[0;36m<module>\u001b[1;34m()\u001b[0m\n\u001b[0;32m      3\u001b[0m \u001b[1;32mprint\u001b[0m \u001b[1;34m\"vi\"\u001b[0m \u001b[1;33m,\u001b[0m \u001b[0mv\u001b[0m\u001b[1;33m\u001b[0m\u001b[0m\n\u001b[0;32m      4\u001b[0m \u001b[1;31m#print CA184(40,x,v)\u001b[0m\u001b[1;33m\u001b[0m\u001b[1;33m\u001b[0m\u001b[0m\n\u001b[1;32m----> 5\u001b[1;33m \u001b[1;32mprint\u001b[0m \u001b[1;34m\"gi\"\u001b[0m \u001b[1;33m,\u001b[0m \u001b[0mg\u001b[0m\u001b[1;33m\u001b[0m\u001b[0m\n\u001b[0m",
        "\u001b[1;31mNameError\u001b[0m: name 'g' is not defined"
       ]
      },
      {
       "output_type": "stream",
       "stream": "stdout",
       "text": [
        "xi [  6.  19.  23.  27.  35.]\n",
        "vi [ 0.8021889   0.02578974  0.9699645   0.55042478  0.78828658]\n",
        "gi"
       ]
      }
     ],
     "prompt_number": 9
    },
    {
     "cell_type": "code",
     "collapsed": false,
     "input": [
      "#TESTING AGAIN\n",
      "print \"xi\" , x\n",
      "print \"vi\" , v\n",
      "#print CA184(40,x,v)\n",
      "print \"gi\" , g"
     ],
     "language": "python",
     "metadata": {},
     "outputs": []
    },
    {
     "cell_type": "heading",
     "level": 6,
     "metadata": {},
     "source": [
      "I don't know why it keeps on saying index is out of bounds no matter what I do.\n"
     ]
    },
    {
     "cell_type": "code",
     "collapsed": false,
     "input": [
      "#STCA TIME   #now dealing with the velocity and making sure\n",
      "             #that the velocities remain same to maintain good spacing\n",
      "'''gi equals the number of empty sites in front of car'''\n",
      "def STCA(length,x,v):\n",
      "    length = arange(0,40)\n",
      "    vmax = 12\n",
      "    g=np.zeros(cars)\n",
      "    for i in range(cars):\n",
      "        if g[i]==0: #no empty sites in front of car\n",
      "            v[i] = 0 #therefore velocity has to be zero\n",
      "        elif v[i]>g[i]: #if going to fast\n",
      "            v[i]=g[i]   #will go velocity for the amount of space\n",
      "        elif v[i]<g[i] and v[i]<vmax: #if going to slow\n",
      "            v[i] +=1    #increase velocity to fill space\n",
      "    for j in range(cars):\n",
      "        x[i]=x[i]+v[i]\n",
      "        if x[i]>1:\n",
      "            x[i]=v[i]-(1-x[i]) #for car looping\n",
      "        \n",
      "        \n",
      "        \n",
      "        \n",
      "    "
     ],
     "language": "python",
     "metadata": {},
     "outputs": []
    },
    {
     "cell_type": "code",
     "collapsed": false,
     "input": [
      "# TESTING TESTING 1...2...3...."
     ],
     "language": "python",
     "metadata": {},
     "outputs": []
    },
    {
     "cell_type": "code",
     "collapsed": false,
     "input": [
      "print 'empty sites:', g\n",
      "print 'position:', x\n",
      "print 'velocity:', v"
     ],
     "language": "python",
     "metadata": {},
     "outputs": []
    },
    {
     "cell_type": "code",
     "collapsed": false,
     "input": [
      "def ASEP(length,x,v,n):\n",
      "    vmax=12\n",
      "    length=arange(0,40)\n",
      "    c =random.shuffle(cars)\n",
      "    position = pos\n",
      "    for i in range(cars):\n",
      "        if v[i] < g[i] and v[i] < vmax:\n",
      "            v[i] += 1 #increase v\n",
      "        elif v[i] > g[i]:\n",
      "            v[i]=g[i] #don't need to change.\n",
      "        elif g[i]==0:\n",
      "            v[i]=0\n",
      "        if pos[i] + v[i] <= length:\n",
      "            pos[i] = pos[i] + v[i]\n",
      "        else:\n",
      "            pos[i] +vel[i] - length\n",
      "            "
     ],
     "language": "python",
     "metadata": {},
     "outputs": []
    },
    {
     "cell_type": "code",
     "collapsed": false,
     "input": [
      "print 'position:', pos[i]\n",
      "print 'velocity:', v[i]"
     ],
     "language": "python",
     "metadata": {},
     "outputs": []
    },
    {
     "cell_type": "code",
     "collapsed": false,
     "input": [
      "#plot graphs would be next"
     ],
     "language": "python",
     "metadata": {},
     "outputs": []
    }
   ],
   "metadata": {}
  }
 ]
}