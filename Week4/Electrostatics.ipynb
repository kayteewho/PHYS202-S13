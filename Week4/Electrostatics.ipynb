{
 "metadata": {
  "name": "Electrostatics"
 },
 "nbformat": 3,
 "nbformat_minor": 0,
 "worksheets": [
  {
   "cells": [
    {
     "cell_type": "code",
     "collapsed": false,
     "input": [
      "from Electrostatics import*"
     ],
     "language": "python",
     "metadata": {},
     "outputs": [],
     "prompt_number": "*"
    },
    {
     "cell_type": "code",
     "collapsed": false,
     "input": [
      "x=arange(-10.,10.,.01)\n",
      "y=arange(-10.,10.,.01)\n",
      "\n",
      "X,Y=meshgrid(x,y)\n",
      "\n",
      "A= pointPotential(X,Y, -2e-9,0.,-.005)\n",
      "B= dipolePotential(X,Y, 3e-9,.001)\n",
      "\n",
      "from mpl_toolkits.mplot3d import Axes3D\n",
      "fig = figure()\n",
      "ax = fig.gca(projection ='3d')\n",
      "p = ax.plot_surface(X, Y, A, rstride=1, cstride=1, linewidth=0, cmap=cm.YlGnBu)\n",
      "cb = fig.colorbar(p, shrink = 0.5)\n"
     ],
     "language": "python",
     "metadata": {},
     "outputs": [],
     "prompt_number": "*"
    },
    {
     "cell_type": "code",
     "collapsed": false,
     "input": [],
     "language": "python",
     "metadata": {},
     "outputs": [],
     "prompt_number": "*"
    }
   ],
   "metadata": {}
  }
 ]
}