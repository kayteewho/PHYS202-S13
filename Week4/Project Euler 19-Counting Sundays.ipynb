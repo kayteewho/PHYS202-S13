{
 "metadata": {
  "name": "Project Euler 19-Counting Sundays"
 },
 "nbformat": 3,
 "nbformat_minor": 0,
 "worksheets": [
  {
   "cells": [
    {
     "cell_type": "markdown",
     "metadata": {},
     "source": [
      "You are given the following information, but you may prefer to do some research for yourself.\n",
      "\n",
      "1 Jan 1900 was a Monday.\n",
      "Thirty days has September,\n",
      "April, June and November.\n",
      "All the rest have thirty-one,\n",
      "Saving February alone,\n",
      "Which has twenty-eight, rain or shine.\n",
      "And on leap years, twenty-nine.\n",
      "A leap year occurs on any year evenly divisible by 4, but not on a century unless it is divisible by 400.\n",
      "How many Sundays fell on the first of the month during the twentieth century (1 Jan 1901 to 31 Dec 2000)?"
     ]
    },
    {
     "cell_type": "code",
     "collapsed": false,
     "input": [
      "months=[ 31,28,31,30,31,30,31,31,30,31,30,31]"
     ],
     "language": "python",
     "metadata": {},
     "outputs": [],
     "prompt_number": 25
    },
    {
     "cell_type": "code",
     "collapsed": false,
     "input": [
      "week=['Sunday','Monday','Tuesday','Wednesday','Thursday','Friday','Saturday']"
     ],
     "language": "python",
     "metadata": {},
     "outputs": [],
     "prompt_number": 26
    },
    {
     "cell_type": "code",
     "collapsed": false,
     "input": [
      "leap_years = [year for year in range(1, 101) if year % 4 == 0]"
     ],
     "language": "python",
     "metadata": {},
     "outputs": [],
     "prompt_number": 27
    },
    {
     "cell_type": "code",
     "collapsed": false,
     "input": [
      "day = 0 \n",
      "month = 0\n",
      "year = 1 \n",
      "weekday = 2 \n",
      "\n",
      "days = {day: week[weekday]} \n",
      "\n",
      "last_month = 0\n",
      "last_year = 0"
     ],
     "language": "python",
     "metadata": {},
     "outputs": [],
     "prompt_number": 28
    },
    {
     "cell_type": "code",
     "collapsed": false,
     "input": [
      "first_of_months = {}\n",
      "while year <= 100:\n",
      "    if last_month == 0:\n",
      "        first_of_months[(month+1,last_month+1, year+1900)] = week[weekday]\n",
      "\n",
      "    day += 1\n",
      "    last_month += 1\n",
      "    last_year += 1\n",
      "    \n",
      "    days_in_year = 365\n",
      "    if year in leap_years:\n",
      "        days_in_year += 1\n",
      "    if last_year >= days_in_year:\n",
      "        year += 1\n",
      "        last_year = 0\n",
      "\n",
      "    days_in_month = months[month]\n",
      "    if month == 1 and year in leap_years:\n",
      "        days_in_month += 1\n",
      "    if last_month >= days_in_month:\n",
      "        month += 1\n",
      "        last_month = 0\n",
      "        if month > len(months)-1:\n",
      "            month = 0\n",
      "\n",
      "    weekday += 1\n",
      "    if weekday > len(week)-1:\n",
      "        weekday = 0\n",
      "    days[day] = week[weekday]"
     ],
     "language": "python",
     "metadata": {},
     "outputs": [],
     "prompt_number": 29
    },
    {
     "cell_type": "code",
     "collapsed": false,
     "input": [
      "def date_sort(date):\n",
      "    date_str = date[0]\n",
      "    month,day,year = date_str.split('/')\n",
      "    return int(month)*int(day)*int(year)\n",
      "\n",
      "print len([weekday for weekday in first_of_months.values() if weekday == 'Sunday'])"
     ],
     "language": "python",
     "metadata": {},
     "outputs": [
      {
       "output_type": "stream",
       "stream": "stdout",
       "text": [
        "171\n"
       ]
      }
     ],
     "prompt_number": 30
    },
    {
     "cell_type": "code",
     "collapsed": false,
     "input": [],
     "language": "python",
     "metadata": {},
     "outputs": [],
     "prompt_number": 30
    }
   ],
   "metadata": {}
  }
 ]
}