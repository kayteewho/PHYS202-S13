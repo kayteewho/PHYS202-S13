{
 "metadata": {
  "name": "Project Euler 5"
 },
 "nbformat": 3,
 "nbformat_minor": 0,
 "worksheets": [
  {
   "cells": [
    {
     "cell_type": "markdown",
     "metadata": {},
     "source": [
      "2520 is the smallest number that can be divided by each of the numbers from 1 to 10 without any remainder. \n",
      "What is the smallest positive number that is evenly divisble by all of the numbers from 1 to 20?"
     ]
    },
    {
     "cell_type": "code",
     "collapsed": false,
     "input": [
      "def gcd(a,b): #greatest common denominator\n",
      "    while b != 0:\n",
      "        a,b = b, a%b\n",
      "        return a\n",
      "def lcm(a,b):   #least common multiple\n",
      "    return a * b/gcd(a,b)\n"
     ],
     "language": "python",
     "metadata": {},
     "outputs": []
    }
   ],
   "metadata": {}
  }
 ]
}