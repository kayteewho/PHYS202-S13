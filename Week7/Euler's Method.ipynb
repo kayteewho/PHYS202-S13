{
 "metadata": {
  "name": "Euler's Method"
 },
 "nbformat": 3,
 "nbformat_minor": 0,
 "worksheets": [
  {
   "cells": [
    {
     "cell_type": "heading",
     "level": 4,
     "metadata": {},
     "source": [
      "Exercise 1. "
     ]
    },
    {
     "cell_type": "markdown",
     "metadata": {},
     "source": [
      "a) Use Euler's method to solve the following first-order with given initial condition y(0) = 0.\n",
      "    Find the value of y when x = 1, that is y(1), using a first step size of 0.25, and then 0.02.\n",
      "dy/dx = x + 2y"
     ]
    },
    {
     "cell_type": "code",
     "collapsed": false,
     "input": [
      "#Solve for dy/dx using Euler's method.\n",
      "\n",
      "#given...\n"
     ],
     "language": "python",
     "metadata": {},
     "outputs": []
    }
   ],
   "metadata": {}
  }
 ]
}