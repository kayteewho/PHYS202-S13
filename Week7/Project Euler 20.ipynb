{
 "metadata": {
  "name": "Project Euler 20"
 },
 "nbformat": 3,
 "nbformat_minor": 0,
 "worksheets": [
  {
   "cells": [
    {
     "cell_type": "heading",
     "level": 1,
     "metadata": {},
     "source": [
      "Factorial Digit Sum"
     ]
    },
    {
     "cell_type": "markdown",
     "metadata": {},
     "source": [
      "n! means n  (n  1)  ...  3  2  1\n",
      "\n",
      "For example, 10! = 10  9  ...  3  2  1 = 3628800,\n",
      "and the sum of the digits in the number 10! is 3 + 6 + 2 + 8 + 8 + 0 + 0 = 27.\n",
      "\n",
      "Find the sum of the digits in the number 100!"
     ]
    },
    {
     "cell_type": "code",
     "collapsed": false,
     "input": [
      "def Digits(n):     #define a function\n",
      "    sum=0\n",
      "    while n >0:    #create a while loop\n",
      "        sum = sum + (n%10)\n",
      "        n = n/10\n",
      "    return sum\n",
      "n = 1\n",
      "for i in xrange(1,100): n = n*i   #for loop \n",
      "print Digits(n)"
     ],
     "language": "python",
     "metadata": {},
     "outputs": [
      {
       "output_type": "stream",
       "stream": "stdout",
       "text": [
        "648\n"
       ]
      }
     ],
     "prompt_number": 5
    },
    {
     "cell_type": "code",
     "collapsed": false,
     "input": [],
     "language": "python",
     "metadata": {},
     "outputs": []
    }
   ],
   "metadata": {}
  }
 ]
}