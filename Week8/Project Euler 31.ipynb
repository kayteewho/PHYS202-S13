{
 "metadata": {
  "name": "Project Euler 31"
 },
 "nbformat": 3,
 "nbformat_minor": 0,
 "worksheets": [
  {
   "cells": [
    {
     "cell_type": "heading",
     "level": 1,
     "metadata": {},
     "source": [
      "Coin Sums"
     ]
    },
    {
     "cell_type": "markdown",
     "metadata": {},
     "source": [
      "In England the currency is made up of pound, \u00a3, and pence, p, and there are eight coins in general circulation:\n",
      "\n",
      "1p, 2p, 5p, 10p, 20p, 50p, \u00a31 (100p) and \u00a32 (200p).\n",
      "It is possible to make \u00a32 in the following way:\n",
      "\n",
      "1\u00a31 + 150p + 220p + 15p + 12p + 31p\n",
      "How many different ways can \u00a32 be made using any number of coins?"
     ]
    },
    {
     "cell_type": "code",
     "collapsed": false,
     "input": [
      "pound2 = 200                            # Set \u00a32 = 200\n",
      "coins = [1,2,5,10,20,50,100,200]    # Eight different coin amounts, create an array\n",
      "ways = [1]+[0]*pound2                   # Set the amount of ways possible\n",
      " \n",
      "for coin in coins:                  #create a double for loop \n",
      "  for i in range(coin, pound2+1):\n",
      "    ways[i] += ways[i-coin]\n",
      " \n",
      "print \"Amount of ways = \", ways[pound2]"
     ],
     "language": "python",
     "metadata": {},
     "outputs": [
      {
       "output_type": "stream",
       "stream": "stdout",
       "text": [
        "Amount of ways =  73682\n"
       ]
      }
     ],
     "prompt_number": 5
    },
    {
     "cell_type": "code",
     "collapsed": false,
     "input": [],
     "language": "python",
     "metadata": {},
     "outputs": []
    }
   ],
   "metadata": {}
  }
 ]
}