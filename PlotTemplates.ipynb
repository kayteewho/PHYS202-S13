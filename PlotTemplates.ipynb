{
 "metadata": {
  "name": "PlotTemplates"
 },
 "nbformat": 3,
 "nbformat_minor": 0,
 "worksheets": [
  {
   "cells": [
    {
     "cell_type": "heading",
     "level": 1,
     "metadata": {},
     "source": [
      "Publication ready plot template-\n",
      "Simple graphing template for matplotlib functions and data plots"
     ]
    },
    {
     "cell_type": "heading",
     "level": 2,
     "metadata": {},
     "source": [
      "Line Plots"
     ]
    },
    {
     "cell_type": "code",
     "collapsed": false,
     "input": [
      "y=np.arange(5,5+.1,.01)# creating an array \n",
      "E=cosh(y) #changes the function's values \n",
      "p=sinh(y) #changes the function's values"
     ],
     "language": "python",
     "metadata": {},
     "outputs": [],
     "prompt_number": 6
    },
    {
     "cell_type": "code",
     "collapsed": false,
     "input": [
      "plot(y,E, color=\"turquoise\",linewidth=3.0,linetyle=\"--\",label=\"$function 1$\")\n",
      "plot(y,p,color =\"orange\",linewidth=3.0,linestyle=\":\",label=\"$function 2$\")\n",
      "\n",
      "xlabel(\"$xlabel$\",fontsize=18)\n",
      "ylabel(\"$ylabel$\", fontsize=18)\n",
      "title(\"Plot\",fontsize=21)\n",
      "grid(True)\n",
      "legend(loc=\"lower right\")\n",
      "ax = gca()\n",
      "()ax.spines['right'].set_color('none')\n",
      "()ax.spines['left'].set_color('none')\n",
      "()ax.spines['bottom'].set_color('none')\n",
      "()ax.spines['top'].set_color('none')\n",
      "axhline(y=0,color=\"blue\")\n",
      "axvline(x=0,color=\"black\")\n",
      "show()"
     ],
     "language": "python",
     "metadata": {},
     "outputs": [
      {
       "ename": "SyntaxError",
       "evalue": "invalid syntax (<ipython-input-10-8376eaea9f51>, line 10)",
       "output_type": "pyerr",
       "traceback": [
        "\u001b[1;36m  File \u001b[1;32m\"<ipython-input-10-8376eaea9f51>\"\u001b[1;36m, line \u001b[1;32m10\u001b[0m\n\u001b[1;33m    ()ax.spines['right'].set_color('none')\u001b[0m\n\u001b[1;37m       ^\u001b[0m\n\u001b[1;31mSyntaxError\u001b[0m\u001b[1;31m:\u001b[0m invalid syntax\n"
       ]
      }
     ],
     "prompt_number": 10
    },
    {
     "cell_type": "code",
     "collapsed": false,
     "input": [],
     "language": "python",
     "metadata": {},
     "outputs": [],
     "prompt_number": 8
    },
    {
     "cell_type": "code",
     "collapsed": false,
     "input": [],
     "language": "python",
     "metadata": {},
     "outputs": []
    }
   ],
   "metadata": {}
  }
 ]
}